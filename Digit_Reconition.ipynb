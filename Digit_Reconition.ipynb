{
  "nbformat": 4,
  "nbformat_minor": 0,
  "metadata": {
    "colab": {
      "name": "Digit Reconition.ipynb",
      "provenance": [],
      "collapsed_sections": [],
      "authorship_tag": "ABX9TyO8qY1o1alj4zAD7fo9052O",
      "include_colab_link": true
    },
    "kernelspec": {
      "name": "python3",
      "display_name": "Python 3"
    },
    "language_info": {
      "name": "python"
    }
  },
  "cells": [
    {
      "cell_type": "markdown",
      "metadata": {
        "id": "view-in-github",
        "colab_type": "text"
      },
      "source": [
        "<a href=\"https://colab.research.google.com/github/DS-Jerry-in-Taiwan/Mnist-classifiaction/blob/main/Digit_Reconition.ipynb\" target=\"_parent\"><img src=\"https://colab.research.google.com/assets/colab-badge.svg\" alt=\"Open In Colab\"/></a>"
      ]
    },
    {
      "cell_type": "markdown",
      "source": [
        "#Introduction\n",
        "---\n",
        "Jerry Lee from Taiwan\n",
        "\n",
        "- This is a digits recognition for minist dataset which try to build in different models\n",
        "\n",
        "- Choose build model with keras API (Tensorflow backend) and sklearn\n",
        "- Notebook remain following three main parts\n",
        "  1. data preparation\n",
        "    - download data from website\n",
        "    - upzip file by gzip\n",
        "    - decode file iindx foram\n",
        "  2. data pre-process\n",
        "    - data distribution\n",
        "    - label smoothing\n",
        "\n",
        "  3. model building\n",
        "    - mult-class classification\n",
        "  4. result comparing\n",
        "\n",
        "- reference\n",
        "  1. [mnist project done before](https://colab.research.google.com/drive/1jjLCLQA5Mh6Xf86VyeLlFKHGagVdMyeE?authuser=1)\n",
        "  2. [kaggle 1](https://www.kaggle.com/yassineghouzam/introduction-to-cnn-keras-0-997-top-6)\n",
        "  3. [kaggle 2](https://www.kaggle.com/kanncaa1/pytorch-tutorial-for-deep-learning-lovers)\n",
        "  4. [Deep learning course](https://www.coursera.org/learn/convolutional-neural-networks/)\n",
        "  5. [The Story of MNIST database (YouTube Video)](https://www.youtube.com/watch?v=oKzNUGz21JM)\n"
      ],
      "metadata": {
        "id": "5d-v3DFg6h4t"
      }
    },
    {
      "cell_type": "markdown",
      "source": [
        "# Import Data\n",
        "---\n",
        "## download data from Yann LeCunn's Wbsite\n",
        "  - [data explanation](http://yann.lecun.com/exdb/mnist/), [explanation from kaggle](https://www.kaggle.com/ngbolin/mnist-dataset-digit-recognizer)\n",
        "  - [idx explanation](https://www.fon.hum.uva.nl/praat/manual/IDX_file_format.html)\n",
        "  - \n"
      ],
      "metadata": {
        "id": "jreSPLYkyOwB"
      }
    },
    {
      "cell_type": "code",
      "source": [
        "# !pip install py7zr\n",
        "from sklearn.metrics import r2_score, precision_score, recall_score\n",
        "from sklearn.metrics import accuracy_score, roc_curve, auc\n",
        "from sklearn.metrics import confusion_matrix, roc_auc_score\n",
        "import gzip\n",
        "# import py7zr\n",
        "import requests\n",
        "import os\n",
        "import matplotlib as mpl\n",
        "import seaborn as sns\n",
        "import pandas as pd\n",
        "import numpy as np\n",
        "import math\n",
        "import itertools\n",
        "import matplotlib.pyplot as plt\n",
        "from matplotlib.cm import ScalarMappable\n",
        "from google.colab import drive ,files\n",
        "import struct, pickle\n",
        "from scipy.ndimage.interpolation import shift\n",
        "import shutil\n",
        "# import zipfile"
      ],
      "metadata": {
        "id": "6UgXXkSvCsaS"
      },
      "execution_count": null,
      "outputs": []
    },
    {
      "cell_type": "code",
      "source": [
        "#Mount colab to gdrive\n",
        "drive.mount('/content/drive')\n",
        "#Change workdirection to proper folder \n",
        "os.chdir('/content/drive/MyDrive/adventure_time/mnist')\n",
        "#Show the work direction\n",
        "os.getcwd()\n"
      ],
      "metadata": {
        "colab": {
          "base_uri": "https://localhost:8080/",
          "height": 73
        },
        "id": "E0iAqiSTdb_f",
        "outputId": "60d6c4ef-b593-440a-9a2e-7f1e92b291c2"
      },
      "execution_count": null,
      "outputs": [
        {
          "output_type": "stream",
          "name": "stdout",
          "text": [
            "Drive already mounted at /content/drive; to attempt to forcibly remount, call drive.mount(\"/content/drive\", force_remount=True).\n"
          ]
        },
        {
          "output_type": "execute_result",
          "data": {
            "application/vnd.google.colaboratory.intrinsic+json": {
              "type": "string"
            },
            "text/plain": [
              "'/content/drive/MyDrive/adventure_time/mnist'"
            ]
          },
          "metadata": {},
          "execution_count": 2
        }
      ]
    },
    {
      "cell_type": "code",
      "source": [
        "#Define function to be used later\n",
        "##\n",
        "def fetch_via_request(url,fdir):\n",
        "  with requests.get(url, stream=True) as r:\n",
        "        r.raise_for_status()\n",
        "        with open(fdir, 'wb') as f:\n",
        "            for chunk in r.iter_content(chunk_size=8192): \n",
        "                if chunk: # filter out keep-alive new chunks\n",
        "                    f.write(chunk)  \n",
        "\n",
        "## extract gzip file\n",
        "def un_zip(files,uncompress):\n",
        "  with gzip.open(files,'rb') as f_in :\n",
        "    with open(uncompress,'wb') as f_out :\n",
        "      shutil.copyfileobj(f_in,f_out)\n",
        "      print('%s uncompress to %s'%(files,uncompress))\n",
        "\n",
        "\n",
        "## Show mnist data\n",
        "def show_mnist(im,lb,idx):\n",
        "  d = im[idx].reshape(28,28)\n",
        "  plt.imshow(d, cmap='CMRmap',)\n",
        "  # add grid\n",
        "  plt.grid(b = 'on', ls= '--', alpha=0.8,color='white')\n",
        "  # add title\n",
        "  plt.title(f'label of {idx}-th digit = {lb[idx]:d}')\n",
        "  # adjust x-y axis to make them equally\n",
        "  plt.xticks(range(0,28,5),['%d'% x for x in range(0,28,5)])\n",
        "  plt.tight_layout()\n"
      ],
      "metadata": {
        "id": "B9pSlTuDZVh1"
      },
      "execution_count": null,
      "outputs": []
    },
    {
      "cell_type": "code",
      "source": [
        "web_path = \"http://yann.lecun.com/exdb/mnist\"\n",
        "files = ['train-images-idx3-ubyte','train-labels-idx1-ubyte',\n",
        "            't10k-images-idx3-ubyte','t10k-labels-idx1-ubyte']\n",
        "url = [web_path+ \"/\" + x + '.gz'  for x in files]\n",
        "output_fpath = [os.getcwd()+\"/\"+ x + '.gz' for x in files]\n",
        "unzip_in = [x + '.gz' for x in files]\n",
        "\n",
        "for i in range(len(files)):\n",
        "  print(i)\n",
        "  print(\"Download files:{}\".format(files[i]))\n",
        "  print(\"Zip files:{}\".format(unzip_in[i]))\n",
        "  # fetch_via_request(url[i],output_fpath[i])   \n",
        "  un_zip(output_fpath[i],files[i])\n",
        "  # with gzip.open(unzip_in[i],'rb') as f_in :\n",
        "  #   with open(files[i],'wb') as f_out :\n",
        "  #     shutil.copyfileobj(f_in,f_out)\n",
        "  #     print('%s uncompress to %s'%(unzip_in[i],files[i]))                            \n",
        "\n",
        "print('mnist data base fetched')\n"
      ],
      "metadata": {
        "colab": {
          "base_uri": "https://localhost:8080/"
        },
        "id": "3eV7UFdpatV1",
        "outputId": "74cb582c-4c2b-454c-9d47-d50140169398"
      },
      "execution_count": null,
      "outputs": [
        {
          "output_type": "stream",
          "name": "stdout",
          "text": [
            "0\n",
            "Download files:train-images-idx3-ubyte\n",
            "Zip files:train-images-idx3-ubyte.gz\n",
            "/content/drive/My Drive/adventure_time/mnist/train-images-idx3-ubyte.gz uncompress to train-images-idx3-ubyte\n",
            "1\n",
            "Download files:train-labels-idx1-ubyte\n",
            "Zip files:train-labels-idx1-ubyte.gz\n",
            "/content/drive/My Drive/adventure_time/mnist/train-labels-idx1-ubyte.gz uncompress to train-labels-idx1-ubyte\n",
            "2\n",
            "Download files:t10k-images-idx3-ubyte\n",
            "Zip files:t10k-images-idx3-ubyte.gz\n",
            "/content/drive/My Drive/adventure_time/mnist/t10k-images-idx3-ubyte.gz uncompress to t10k-images-idx3-ubyte\n",
            "3\n",
            "Download files:t10k-labels-idx1-ubyte\n",
            "Zip files:t10k-labels-idx1-ubyte.gz\n",
            "/content/drive/My Drive/adventure_time/mnist/t10k-labels-idx1-ubyte.gz uncompress to t10k-labels-idx1-ubyte\n",
            "mnist data base fetched\n"
          ]
        }
      ]
    },
    {
      "cell_type": "code",
      "source": [
        "def read_idx(files):\n",
        "  with open(files,'rb') as f:\n",
        "    z, data_type, dims = struct.unpack('>HBB',f.read(4))\n",
        "    if dims == 3:\n",
        "      n = struct.unpack('>I',f.read(4))[0]#Why use read(4)??\n",
        "      r = struct.unpack('>I',f.read(4))[0]\n",
        "      c = struct.unpack('>I',f.read(4))[0]\n",
        "      shape=(n,r,c)\n",
        "    else:\n",
        "      n = struct.unpack('>I',f.read(4))[0]\n",
        "      shape=(n)\n",
        "\n",
        "    return np.fromfile(f,dtype=np.dtype(np.uint8).newbyteorder('>'))"
      ],
      "metadata": {
        "id": "fsLC1lqCtgPX"
      },
      "execution_count": null,
      "outputs": []
    },
    {
      "cell_type": "code",
      "source": [
        "# Read data\n",
        "for i in range(len(files)):\n",
        "  print('file:{}'.format(files[i]))\n",
        "  if 'train' in files[i]:\n",
        "    if 'images' in files[i]:\n",
        "      print(\"it's train image\")\n",
        "      raw_train = read_idx(files[i])\n",
        "      train_data = np.reshape(raw_train,(60000,28*28))\n",
        "    else:\n",
        "      print(\"it's train label\")\n",
        "      train_y = read_idx(files[i])\n",
        "  else:\n",
        "    if 'images' in files[i]:\n",
        "      print(\"it's test image\")\n",
        "      raw_test = read_idx(files[i])\n",
        "      test_data = np.reshape(raw_test,(10000,28*28))\n",
        "    else:\n",
        "      print(\"it's test label\")\n",
        "      test_y = read_idx(files[i])\n",
        "\n",
        "\n"
      ],
      "metadata": {
        "colab": {
          "base_uri": "https://localhost:8080/"
        },
        "id": "29DCuzrijQ9J",
        "outputId": "4461276f-1035-4046-9c13-6c76494ee22d"
      },
      "execution_count": null,
      "outputs": [
        {
          "output_type": "stream",
          "name": "stdout",
          "text": [
            "file:train-images-idx3-ubyte\n",
            "it's train image\n",
            "file:train-labels-idx1-ubyte\n",
            "it's train label\n",
            "file:t10k-images-idx3-ubyte\n",
            "it's test image\n",
            "file:t10k-labels-idx1-ubyte\n",
            "it's test label\n"
          ]
        }
      ]
    },
    {
      "cell_type": "code",
      "source": [
        "#Display hand-written element in data\n",
        "idx = 10000\n",
        "show_mnist(train_data,train_y,idx)"
      ],
      "metadata": {
        "colab": {
          "base_uri": "https://localhost:8080/",
          "height": 297
        },
        "id": "Z3AsLcKU5VbN",
        "outputId": "83981045-ffc8-48ce-80eb-5e18f75b8cd8"
      },
      "execution_count": null,
      "outputs": [
        {
          "output_type": "display_data",
          "data": {
            "image/png": "[encoded data removed]",
            "text/plain": [
              "<Figure size 432x288 with 1 Axes>"
            ]
          },
          "metadata": {
            "needs_background": "light"
          }
        }
      ]
    },
    {
      "cell_type": "markdown",
      "source": [
        "## Data pre-process\n",
        "---\n",
        "\n"
      ],
      "metadata": {
        "id": "4TXKrDwMAqJf"
      }
    },
    {
      "cell_type": "markdown",
      "source": [
        "### Data distribution\n",
        "  - Visualize data distribution by [countlpot](https://seaborn.pydata.org/generated/seaborn.countplot.html)\n",
        "  - To avoid bias causing by imbalance data\n",
        "    - why imbalance is a problem\n",
        "    - what kind of index to detect \n",
        "    - how to handle data with imbalance problem\n"
      ],
      "metadata": {
        "id": "SFEdM7OFBSqr"
      }
    },
    {
      "cell_type": "code",
      "source": [
        "cnt = pd.DataFrame()\n",
        "cnt['train_label'] = train_y\n",
        "x=sns.countplot(x = 'train_label',\n",
        "       data = cnt,\n",
        "       palette='pastel',\n",
        "       edgecolor=sns.color_palette(\"dark\", 3))\n",
        "\n",
        "# for p in x.patches:\n",
        "#     x=p.get_bbox().get_points()[:,0]\n",
        "#     y=p.get_bbox().get_points()[1,1]\n",
        "#     ax.annotate('{:.1f}%'.format(100.*y/ncount), (x.mean(), y), \n",
        "            # ha='center', va='bottom') # set the alignment of the text\n",
        "plt.title('Category countplot')\n",
        "\n"
      ],
      "metadata": {
        "colab": {
          "base_uri": "https://localhost:8080/",
          "height": 314
        },
        "id": "joFZ19diBaZk",
        "outputId": "c4b89ab6-7901-4608-d686-fdb055cf0c22"
      },
      "execution_count": null,
      "outputs": [
        {
          "output_type": "execute_result",
          "data": {
            "text/plain": [
              "Text(0.5, 1.0, 'Category countplot')"
            ]
          },
          "metadata": {},
          "execution_count": 15
        },
        {
          "output_type": "display_data",
          "data": {
            "image/png": "[encoded data removed]",
            "text/plain": [
              "<Figure size 432x288 with 1 Axes>"
            ]
          },
          "metadata": {
            "needs_background": "light"
          }
        }
      ]
    },
    {
      "cell_type": "markdown",
      "source": [
        "### Label Smoothing\n",
        "  - add noise to the \n",
        "  - to avoid overfiting\n",
        "    - Why overfiting is probelm\n",
        "    - what index to detect overfiting\n",
        "    - how to fix overfiting problem"
      ],
      "metadata": {
        "id": "5CY514S0H7gI"
      }
    },
    {
      "cell_type": "code",
      "source": [
        "#使用label smoothing 使資料不要出現過度擬合(overfitting)的狀況\n",
        "fac = 0.99/255 #normalization:將資料限縮在 0~1 之間的權數\n",
        "\n",
        "train_x = train_data * fac + 0.01 #lable smoothing:在normalization後增加白噪音(0.01)\n",
        "test_x = test_data * fac + 0.01   #使資料較不會overfiting"
      ],
      "metadata": {
        "id": "xTNI3GLkH73M"
      },
      "execution_count": null,
      "outputs": []
    },
    {
      "cell_type": "code",
      "source": [
        "test_x"
      ],
      "metadata": {
        "colab": {
          "base_uri": "https://localhost:8080/"
        },
        "id": "f9B8IDSM4A_W",
        "outputId": "b59d642b-ffb0-4b4d-c215-3194fb3d2b34"
      },
      "execution_count": null,
      "outputs": [
        {
          "output_type": "execute_result",
          "data": {
            "text/plain": [
              "array([[0.01, 0.01, 0.01, ..., 0.01, 0.01, 0.01],\n",
              "       [0.01, 0.01, 0.01, ..., 0.01, 0.01, 0.01],\n",
              "       [0.01, 0.01, 0.01, ..., 0.01, 0.01, 0.01],\n",
              "       ...,\n",
              "       [0.01, 0.01, 0.01, ..., 0.01, 0.01, 0.01],\n",
              "       [0.01, 0.01, 0.01, ..., 0.01, 0.01, 0.01],\n",
              "       [0.01, 0.01, 0.01, ..., 0.01, 0.01, 0.01]])"
            ]
          },
          "metadata": {},
          "execution_count": 23
        }
      ]
    },
    {
      "cell_type": "markdown",
      "source": [
        "## Build Model\n",
        "---\n",
        "  - Build pipeline\n",
        "  - model selection\n",
        "    - [classification_report](https://scikit-learn.org/stable/modules/generated/sklearn.metrics.classification_report.html)\n",
        "    - Visiualize the result to compare effectiveness between models\n",
        "  - pick the best one"
      ],
      "metadata": {
        "id": "HCPDGN0gGELG"
      }
    },
    {
      "cell_type": "markdown",
      "source": [
        "### Multi-class classification\n",
        "  - Logistic regression\n",
        "  - k-Nearest Neighbor\n",
        "  - Multi layer Percetron\n",
        "  - CNN"
      ],
      "metadata": {
        "id": "s7PT6Ts1x74B"
      }
    },
    {
      "cell_type": "code",
      "source": [
        "from sklearn.linear_model import LogisticRegression\n",
        "from sklearn.metrics import classification_report,confusion_matrix\n",
        "lr = LogisticRegression(max_iter = 500)\n",
        "lr.fit(train_x,train_y)\n",
        "y_hat_lr = lr.predict(test_x)"
      ],
      "metadata": {
        "id": "tNU8UqBex8QP"
      },
      "execution_count": null,
      "outputs": []
    },
    {
      "cell_type": "code",
      "source": [
        "print(\"\\n-----------------------------------------\")\n",
        "print(\"train score: %.4f\"%lr.score(train_x,train_y))\n",
        "print(\"test score: %.4f\"%lr.score(test_x,test_y))\n",
        "print(\"\\n-----------------------------------------\")\n",
        "\n",
        "#1-9的precesion跟record都會列印出來;accuracy則是取平均\n",
        "rep = classification_report(test_y,y_hat_lr)\n",
        "print(rep)\n"
      ],
      "metadata": {
        "colab": {
          "base_uri": "https://localhost:8080/"
        },
        "id": "0cK-cSev30uG",
        "outputId": "e5ac2f32-e6b5-4478-cbec-01af2df9ae46"
      },
      "execution_count": null,
      "outputs": [
        {
          "output_type": "stream",
          "name": "stdout",
          "text": [
            "\n",
            "-----------------------------------------\n",
            "train score: 0.9392\n",
            "test score: 0.9257\n",
            "\n",
            "-----------------------------------------\n",
            "              precision    recall  f1-score   support\n",
            "\n",
            "           0       0.95      0.98      0.96       980\n",
            "           1       0.96      0.98      0.97      1135\n",
            "           2       0.93      0.90      0.91      1032\n",
            "           3       0.90      0.91      0.91      1010\n",
            "           4       0.94      0.94      0.94       982\n",
            "           5       0.90      0.87      0.88       892\n",
            "           6       0.94      0.95      0.95       958\n",
            "           7       0.93      0.92      0.93      1028\n",
            "           8       0.88      0.88      0.88       974\n",
            "           9       0.91      0.92      0.91      1009\n",
            "\n",
            "    accuracy                           0.93     10000\n",
            "   macro avg       0.92      0.92      0.92     10000\n",
            "weighted avg       0.93      0.93      0.93     10000\n",
            "\n"
          ]
        }
      ]
    },
    {
      "cell_type": "code",
      "source": [
        "%%time\n",
        "\n",
        "#使用mlxtend畫confusion matrix：先用sklean計算confusion matrix然後在繪製confusion matrix plot\n",
        "from mlxtend.plotting import plot_confusion_matrix as plot_cm3\n",
        "from sklearn.metrics import confusion_matrix\n",
        "\n",
        "# 1.計算confusion matrix\n",
        "mlx_cm = confusion_matrix(test_y,y_hat_lr)\n",
        "\n",
        "# 2. plot confusion matrix\n",
        "fig,ax=plot_cm3(conf_mat=mlx_cm,show_normed=True,#show_normed：顯示normalization的結果\n",
        "                colorbar=True,figsize=(20,10))"
      ],
      "metadata": {
        "id": "qhoIowHIDits"
      },
      "execution_count": null,
      "outputs": []
    },
    {
      "cell_type": "code",
      "source": [
        "from sklearn.neural_network import MLPClassifier\n",
        "from sklearn.neighbors import KNeighborsClassifier\n",
        "from sklearn.metrics import classification_report\n",
        "\n",
        "knn = KNeighborsClassifier(n_neighbors=3,algorithm=\"auto\")\n",
        "knn.fit(train_x,train_y)\n",
        "y_hat_knn = knn.predict(test_x)\n",
        "rep = classification_report(test_y,y_hat_knn)\n",
        "print(rep)"
      ],
      "metadata": {
        "colab": {
          "base_uri": "https://localhost:8080/"
        },
        "id": "_0MVhJjGB1WS",
        "outputId": "1d57db94-b016-4b00-e28a-4de53de0f1c9"
      },
      "execution_count": null,
      "outputs": [
        {
          "output_type": "stream",
          "name": "stdout",
          "text": [
            "              precision    recall  f1-score   support\n",
            "\n",
            "           0       0.97      0.99      0.98       980\n",
            "           1       0.96      1.00      0.98      1135\n",
            "           2       0.98      0.97      0.97      1032\n",
            "           3       0.96      0.97      0.96      1010\n",
            "           4       0.98      0.97      0.97       982\n",
            "           5       0.97      0.96      0.96       892\n",
            "           6       0.98      0.99      0.98       958\n",
            "           7       0.96      0.96      0.96      1028\n",
            "           8       0.99      0.94      0.96       974\n",
            "           9       0.96      0.96      0.96      1009\n",
            "\n",
            "    accuracy                           0.97     10000\n",
            "   macro avg       0.97      0.97      0.97     10000\n",
            "weighted avg       0.97      0.97      0.97     10000\n",
            "\n"
          ]
        }
      ]
    },
    {
      "cell_type": "code",
      "source": [
        "%%time\n",
        "\n",
        "#使用mlxtend畫confusion matrix：先用sklean計算confusion matrix然後在繪製confusion matrix plot\n",
        "from mlxtend.plotting import plot_confusion_matrix as plot_cm3\n",
        "from sklearn.metrics import confusion_matrix\n",
        "\n",
        "# 1.計算confusion matrix\n",
        "mlx_cm = confusion_matrix(test_y,y_hat_lr)\n",
        "\n",
        "# 2. plot confusion matrix\n",
        "fig,ax=plot_cm3(conf_mat=mlx_cm,show_normed=True,#show_normed：顯示normalization的結果\n",
        "                colorbar=True,figsize=(20,10))"
      ],
      "metadata": {
        "id": "S0egqrfqDa8A"
      },
      "execution_count": null,
      "outputs": []
    },
    {
      "cell_type": "code",
      "source": [
        "from sklearn.neural_network import MLPClassifier\n",
        "from sklearn.neighbors import KNeighborsClassifier\n",
        "from sklearn.metrics import classification_report\n",
        "\n",
        "#MLP(multi layer perceptron)\n",
        "mlp = MLPClassifier(hidden_layer_sizes=128,\n",
        "           max_iter=100,\n",
        "           activation='tanh',\n",
        "           solver='adam',\n",
        "           tol=1E-4,\n",
        "           random_state=0,\n",
        "           learning_rate_init=0.005,#起始學習率\n",
        "           shuffle=True,\n",
        "           verbose=False,#是否在運算過程中列出訊息：False\n",
        "           learning_rate='adaptive')\n",
        "mlp.fit(train_x,train_y)\n",
        "y_hat_mlp = mlp.predict(test_x)\n",
        "rep = classification_report(test_y,y_hat_mlp)\n",
        "print(rep)"
      ],
      "metadata": {
        "colab": {
          "base_uri": "https://localhost:8080/"
        },
        "id": "JeU11KkgB3T2",
        "outputId": "03648cc4-b607-4f9f-f70e-667a2f73ee0e"
      },
      "execution_count": null,
      "outputs": [
        {
          "output_type": "stream",
          "name": "stdout",
          "text": [
            "              precision    recall  f1-score   support\n",
            "\n",
            "           0       0.98      0.99      0.98       980\n",
            "           1       0.99      0.99      0.99      1135\n",
            "           2       0.96      0.97      0.96      1032\n",
            "           3       0.94      0.97      0.95      1010\n",
            "           4       0.98      0.97      0.98       982\n",
            "           5       0.98      0.95      0.96       892\n",
            "           6       0.98      0.97      0.98       958\n",
            "           7       0.98      0.95      0.97      1028\n",
            "           8       0.95      0.97      0.96       974\n",
            "           9       0.95      0.98      0.96      1009\n",
            "\n",
            "    accuracy                           0.97     10000\n",
            "   macro avg       0.97      0.97      0.97     10000\n",
            "weighted avg       0.97      0.97      0.97     10000\n",
            "\n"
          ]
        }
      ]
    },
    {
      "cell_type": "code",
      "source": [
        "%%time\n",
        "\n",
        "#使用mlxtend畫confusion matrix：先用sklean計算confusion matrix然後在繪製confusion matrix plot\n",
        "from mlxtend.plotting import plot_confusion_matrix as plot_cm3\n",
        "from sklearn.metrics import confusion_matrix\n",
        "\n",
        "# 1.計算confusion matrix\n",
        "mlx_cm = confusion_matrix(test_y,y_hat_lr)\n",
        "\n",
        "# 2. plot confusion matrix\n",
        "fig,ax=plot_cm3(conf_mat=mlx_cm,show_normed=True,#show_normed：顯示normalization的結果\n",
        "                colorbar=True,figsize=(20,10))"
      ],
      "metadata": {
        "id": "QmxuUgt2Ffhj",
        "outputId": "7996c61a-87ec-41b6-e2c1-4b0bb15fe72b",
        "colab": {
          "base_uri": "https://localhost:8080/",
          "height": 586
        }
      },
      "execution_count": null,
      "outputs": [
        {
          "output_type": "stream",
          "name": "stdout",
          "text": [
            "CPU times: user 72.1 ms, sys: 10.6 ms, total: 82.8 ms\n",
            "Wall time: 104 ms\n"
          ]
        },
        {
          "output_type": "display_data",
          "data": {
            "image/png": "[encoded data removed]",
            "text/plain": [
              "<Figure size 1440x720 with 2 Axes>"
            ]
          },
          "metadata": {
            "needs_background": "light"
          }
        }
      ]
    },
    {
      "cell_type": "code",
      "source": [
        "#   try:\n",
        "#     from google.colab import drive, files\n",
        "#     in_colab = True\n",
        "# except ModuleNotFoundError:\n",
        "#     in_colab = False\n",
        "\n",
        "# if in_colab:\n",
        "#     home_dir = ''\n",
        "#     drive.mount('/content/drive')\n",
        "#     groot_dir = '/content/drive/MyDrive/adventure_time/'\n",
        "# else:\n",
        "#     from pathlib import Path\n",
        "#     home_dir = str(Path.home())\n",
        "#     groot_dir = home_dir + '/Google Drive/adventure_time/'"
      ],
      "metadata": {
        "colab": {
          "base_uri": "https://localhost:8080/"
        },
        "id": "pR8iBW0Za5xc",
        "outputId": "6adc33ac-b5e1-4442-db11-d92040f9bd96"
      },
      "execution_count": null,
      "outputs": [
        {
          "output_type": "stream",
          "name": "stdout",
          "text": [
            "Mounted at /content/drive\n"
          ]
        }
      ]
    },
    {
      "cell_type": "markdown",
      "source": [
        "### Binary classification\n",
        "  - Percetron\n",
        "  - SGD classification"
      ],
      "metadata": {
        "id": "IYSGtuWqv4GW"
      }
    }
  ]
}